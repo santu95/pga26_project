{
 "cells": [
  {
   "cell_type": "code",
   "execution_count": 1,
   "metadata": {},
   "outputs": [],
   "source": [
    "from pyspark.sql import SparkSession\n",
    "from pyspark.sql.functions import *"
   ]
  },
  {
   "cell_type": "code",
   "execution_count": 2,
   "metadata": {},
   "outputs": [],
   "source": [
    "#Create a Spark Application\n",
    "\n",
    "spark = SparkSession.builder.appName(\"Olympic_Games\").getOrCreate()\n",
    "\n",
    "athlete_events = spark.read.csv(\"file:///home/hduser/demo_1/athlete_events.csv\",sep=',',inferSchema=True,header=True)"
   ]
  },
  {
   "cell_type": "code",
   "execution_count": 3,
   "metadata": {},
   "outputs": [
    {
     "name": "stdout",
     "output_type": "stream",
     "text": [
      "root\n",
      " |-- ID: integer (nullable = true)\n",
      " |-- Name: string (nullable = true)\n",
      " |-- Sex: string (nullable = true)\n",
      " |-- Age: string (nullable = true)\n",
      " |-- Height: string (nullable = true)\n",
      " |-- Weight: string (nullable = true)\n",
      " |-- Team: string (nullable = true)\n",
      " |-- NOC: string (nullable = true)\n",
      " |-- Games: string (nullable = true)\n",
      " |-- Year: string (nullable = true)\n",
      " |-- Season: string (nullable = true)\n",
      " |-- City: string (nullable = true)\n",
      " |-- Sport: string (nullable = true)\n",
      " |-- Event: string (nullable = true)\n",
      " |-- Medal: string (nullable = true)\n",
      "\n"
     ]
    }
   ],
   "source": [
    "athlete_events.printSchema()"
   ]
  },
  {
   "cell_type": "code",
   "execution_count": 4,
   "metadata": {},
   "outputs": [
    {
     "data": {
      "text/plain": [
       "271116"
      ]
     },
     "execution_count": 4,
     "metadata": {},
     "output_type": "execute_result"
    }
   ],
   "source": [
    "athlete_events.count()"
   ]
  },
  {
   "cell_type": "code",
   "execution_count": 5,
   "metadata": {},
   "outputs": [
    {
     "name": "stdout",
     "output_type": "stream",
     "text": [
      "271116 15\n"
     ]
    }
   ],
   "source": [
    "print(athlete_events.count(),len(athlete_events.columns))"
   ]
  },
  {
   "cell_type": "code",
   "execution_count": 6,
   "metadata": {},
   "outputs": [],
   "source": [
    "athlete_events = athlete_events.dropDuplicates()"
   ]
  },
  {
   "cell_type": "code",
   "execution_count": 7,
   "metadata": {},
   "outputs": [
    {
     "data": {
      "text/plain": [
       "269729"
      ]
     },
     "execution_count": 7,
     "metadata": {},
     "output_type": "execute_result"
    }
   ],
   "source": [
    "athlete_events.count()"
   ]
  },
  {
   "cell_type": "code",
   "execution_count": 8,
   "metadata": {},
   "outputs": [],
   "source": [
    "athlete_events_final = athlete_events. \\\n",
    "withColumn(\"Age\",col(\"Age\").cast(\"Integer\")). \\\n",
    "withColumn(\"Height\",col(\"Height\").cast(\"Integer\")). \\\n",
    "withColumn(\"Weight\",col(\"Weight\").cast(\"Integer\"))"
   ]
  },
  {
   "cell_type": "code",
   "execution_count": 9,
   "metadata": {},
   "outputs": [
    {
     "name": "stdout",
     "output_type": "stream",
     "text": [
      "root\n",
      " |-- ID: integer (nullable = true)\n",
      " |-- Name: string (nullable = true)\n",
      " |-- Sex: string (nullable = true)\n",
      " |-- Age: integer (nullable = true)\n",
      " |-- Height: integer (nullable = true)\n",
      " |-- Weight: integer (nullable = true)\n",
      " |-- Team: string (nullable = true)\n",
      " |-- NOC: string (nullable = true)\n",
      " |-- Games: string (nullable = true)\n",
      " |-- Year: string (nullable = true)\n",
      " |-- Season: string (nullable = true)\n",
      " |-- City: string (nullable = true)\n",
      " |-- Sport: string (nullable = true)\n",
      " |-- Event: string (nullable = true)\n",
      " |-- Medal: string (nullable = true)\n",
      "\n"
     ]
    }
   ],
   "source": [
    "athlete_events_final.printSchema()"
   ]
  },
  {
   "cell_type": "code",
   "execution_count": 11,
   "metadata": {},
   "outputs": [],
   "source": [
    "athlete_events_final.createOrReplaceTempView(\"athlete_events_final_view\")"
   ]
  },
  {
   "cell_type": "code",
   "execution_count": 12,
   "metadata": {},
   "outputs": [],
   "source": [
    "distribution_age__gold_medals = spark.sql(\"select Age, count(Medal) as total_medal from athlete_events_final_view where Medal ='Gold' and Age >0 group by Age order by Age asc \")"
   ]
  },
  {
   "cell_type": "code",
   "execution_count": 13,
   "metadata": {},
   "outputs": [
    {
     "name": "stdout",
     "output_type": "stream",
     "text": [
      "+---+-----------+\n",
      "|Age|total_medal|\n",
      "+---+-----------+\n",
      "| 13|          7|\n",
      "| 14|         27|\n",
      "| 15|         75|\n",
      "| 16|        113|\n",
      "| 17|        189|\n",
      "| 18|        278|\n",
      "| 19|        457|\n",
      "| 20|        666|\n",
      "| 21|        910|\n",
      "| 22|       1087|\n",
      "+---+-----------+\n",
      "only showing top 10 rows\n",
      "\n"
     ]
    }
   ],
   "source": [
    "distribution_age__gold_medals.show(10)"
   ]
  },
  {
   "cell_type": "code",
   "execution_count": 14,
   "metadata": {},
   "outputs": [],
   "source": [
    "distribution_age__gold_medals_pd = distribution_age__gold_medals.toPandas()"
   ]
  },
  {
   "cell_type": "code",
   "execution_count": 16,
   "metadata": {},
   "outputs": [
    {
     "data": {
      "text/plain": [
       "<matplotlib.axes._subplots.AxesSubplot at 0x7f848aa76860>"
      ]
     },
     "execution_count": 16,
     "metadata": {},
     "output_type": "execute_result"
    },
    {
     "data": {
      "image/png": "[encoded data removed]",
      "text/plain": [
       "<Figure size 1080x720 with 1 Axes>"
      ]
     },
     "metadata": {
      "needs_background": "light"
     },
     "output_type": "display_data"
    }
   ],
   "source": [
    "distribution_age__gold_medals_pd.plot(kind='bar',x='Age',y='total_medal',figsize=(15,10),width=0.7)"
   ]
  },
  {
   "cell_type": "code",
   "execution_count": null,
   "metadata": {},
   "outputs": [],
   "source": []
  }
 ],
 "metadata": {
  "kernelspec": {
   "display_name": "Python 3",
   "language": "python",
   "name": "python3"
  },
  "language_info": {
   "codemirror_mode": {
    "name": "ipython",
    "version": 3
   },
   "file_extension": ".py",
   "mimetype": "text/x-python",
   "name": "python",
   "nbconvert_exporter": "python",
   "pygments_lexer": "ipython3",
   "version": "3.4.3"
  }
 },
 "nbformat": 4,
 "nbformat_minor": 2
}
